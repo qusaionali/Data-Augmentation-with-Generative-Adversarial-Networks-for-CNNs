{
 "cells": [
  {
   "cell_type": "code",
   "execution_count": 64,
   "metadata": {},
   "outputs": [],
   "source": [
    "import requests\n",
    "from PIL import Image, UnidentifiedImageError\n",
    "from io import BytesIO\n",
    "import os\n",
    "\n",
    "def downloadImage(url, save_location):\n",
    "    # Send a HTTP request to the URL of the image\n",
    "    response = requests.get(url)\n",
    "\n",
    "    # Check if the request was successful\n",
    "    if response.status_code == 200:\n",
    "        # Create a BytesIO object\n",
    "        img_data = BytesIO(response.content)\n",
    "\n",
    "        # Open the image\n",
    "        img = Image.open(img_data)\n",
    "\n",
    "        # Ensure that the directory exists; if not, create it\n",
    "        os.makedirs(os.path.dirname(save_location), exist_ok=True)\n",
    "\n",
    "        # Save the image\n",
    "        img.save(save_location)\n",
    "    else:\n",
    "        print(f'Error: Received status code {response.status_code} when trying to get {url}')\n"
   ]
  },
  {
   "cell_type": "code",
   "execution_count": 65,
   "metadata": {},
   "outputs": [],
   "source": [
    "import io\n",
    "import os\n",
    "import openai\n",
    "from PIL import Image\n",
    "\n",
    "openai.api_key =\"",
    "\n",
    "def generateRefrenceImage(className, imagePath, output_path, file_name, numImages=1):\n",
    "    # Open the JPEG image\n",
    "    with Image.open(imagePath) as im:\n",
    "        im = im.resize((415, 415))\n",
    "        # Convert the image to RGBA format (with alpha channel)\n",
    "        rgba_im = im.convert(\"RGBA\")\n",
    "\n",
    "        # Create a BytesIO object and save the image data to it\n",
    "        img_byte_arr = io.BytesIO()\n",
    "        rgba_im.save(img_byte_arr, format='PNG')\n",
    "\n",
    "        # Move to the beginning of the BytesIO object\n",
    "        img_byte_arr.seek(0)\n",
    "\n",
    "        response = openai.Image.create_variation(\n",
    "            image=img_byte_arr,\n",
    "            n=numImages,\n",
    "            size=\"256x256\",\n",
    "        )\n",
    "        \n",
    "        file_name = file_name[:-4]\n",
    "        for i, generatedImg in enumerate(response.data):\n",
    "            fileName = \"augmented_\" + file_name +\"_\" +str(i) +\".jpg\"\n",
    "            save_dir = output_path +\"/\" + fileName;\n",
    "            downloadImage(generatedImg.url, save_dir)"
   ]
  },
  {
   "cell_type": "code",
   "execution_count": 67,
   "metadata": {},
   "outputs": [
    {
     "name": "stdout",
     "output_type": "stream",
     "text": [
      "doing class: cats\n"
     ]
    }
   ],
   "source": [
    "import os\n",
    "from PIL import Image\n",
    "\n",
    "base_folder_path = \"data/training_set\"\n",
    "output_folder_path = \"data/augmented_training_set\"\n",
    "\n",
    "classes = [\"cats\", \"dogs\"]\n",
    "\n",
    "for class_name in classes:\n",
    "    print(\"doing class:\", class_name)\n",
    "    folder_path = os.path.join(base_folder_path, class_name)\n",
    "    output_path = os.path.join(output_folder_path,class_name)\n",
    "    image_files = os.listdir(folder_path)\n",
    "\n",
    "    for file_name in image_files:\n",
    "        image_path = os.path.join(folder_path, file_name)\n",
    "        try:\n",
    "            with Image.open(image_path) as image:\n",
    "                generateRefrenceImage(class_name, image_path, output_path, file_name, 3)\n",
    "        except UnidentifiedImageError as e:\n",
    "            print(f\"Error: {e}. Skipping file {file_name}.\")\n",
    "            continue\n",
    "            \n",
    "\n",
    "print(\"completed generating images!\")"
   ]
  }
 ],
 "metadata": {
  "kernelspec": {
   "display_name": "Python 3 (ipykernel)",
   "language": "python",
   "name": "python3"
  },
  "language_info": {
   "codemirror_mode": {
    "name": "ipython",
    "version": 3
   },
   "file_extension": ".py",
   "mimetype": "text/x-python",
   "name": "python",
   "nbconvert_exporter": "python",
   "pygments_lexer": "ipython3",
   "version": "3.11.5"
  }
 },
 "nbformat": 4,
 "nbformat_minor": 2
}
